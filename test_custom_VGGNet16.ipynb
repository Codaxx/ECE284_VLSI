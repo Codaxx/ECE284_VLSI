{
 "cells": [
  {
   "cell_type": "code",
   "execution_count": 1,
   "id": "ee5fd321-50c1-4323-b8b7-8417f8e8f4b6",
   "metadata": {},
   "outputs": [],
   "source": [
    "import argparse\n",
    "import os\n",
    "import time\n",
    "import shutil\n",
    "\n",
    "import torch\n",
    "import torch.nn as nn\n",
    "import torch.optim as optim\n",
    "import torch.nn.functional as F\n",
    "import torch.backends.cudnn as cudnn\n",
    "\n",
    "import torchvision\n",
    "import torchvision.transforms as transforms\n",
    "\n",
    "from models.quant_layer import *\n",
    "from models.VGG16_custom import *"
   ]
  },
  {
   "cell_type": "code",
   "execution_count": 2,
   "id": "3d7a496b-352d-444c-b24d-3c7dfd3ca81f",
   "metadata": {},
   "outputs": [
    {
     "data": {
      "text/plain": [
       "(True, 'NVIDIA GeForce RTX 2080 Ti')"
      ]
     },
     "execution_count": 2,
     "metadata": {},
     "output_type": "execute_result"
    }
   ],
   "source": [
    "use_gpu = torch.cuda.is_available()\n",
    "device = torch.device(\"cuda\" if use_gpu else \"cpu\") \n",
    "use_gpu, torch.cuda.get_device_name()"
   ]
  },
  {
   "cell_type": "code",
   "execution_count": 3,
   "id": "d710bef2",
   "metadata": {},
   "outputs": [],
   "source": [
    "batch_size = 256\n",
    "model_name = \"VGG16_custom1\"\n",
    "model = VGG16_custom()"
   ]
  },
  {
   "cell_type": "code",
   "execution_count": 4,
   "id": "f1754bbb",
   "metadata": {},
   "outputs": [
    {
     "data": {
      "text/plain": [
       "<All keys matched successfully>"
      ]
     },
     "execution_count": 4,
     "metadata": {},
     "output_type": "execute_result"
    }
   ],
   "source": [
    "fdir = 'result/'+str(model_name)+'/model_best.pth.tar'\n",
    "checkpoint = torch.load(fdir)\n",
    "model.load_state_dict(checkpoint['state_dict'])"
   ]
  },
  {
   "cell_type": "code",
   "execution_count": 5,
   "id": "754bf6a4-12c3-4d37-a631-8986feeb869a",
   "metadata": {},
   "outputs": [
    {
     "name": "stdout",
     "output_type": "stream",
     "text": [
      "Files already downloaded and verified\n",
      "Files already downloaded and verified\n"
     ]
    }
   ],
   "source": [
    "# means and stds for individual RGB channels\n",
    "# image = (image - mean) / std\n",
    "normalize = transforms.Normalize(mean=[0.491, 0.482, 0.447], std=[0.247, 0.243, 0.262])\n",
    "\n",
    "train_dataset = torchvision.datasets.CIFAR10(\n",
    "    root='./data',\n",
    "    train=True,\n",
    "    download=True,\n",
    "    transform=transforms.Compose([\n",
    "        transforms.RandomCrop(32, padding=4),\n",
    "        transforms.RandomHorizontalFlip(),\n",
    "        transforms.ToTensor(),\n",
    "        normalize,\n",
    "    ]))\n",
    "\n",
    "test_dataset = torchvision.datasets.CIFAR10(\n",
    "    root='./data',\n",
    "    train=False,\n",
    "    download=True,\n",
    "    transform=transforms.Compose([\n",
    "        transforms.ToTensor(),\n",
    "        normalize,\n",
    "    ]))\n",
    "\n",
    "trainloader = torch.utils.data.DataLoader(train_dataset, batch_size=batch_size, shuffle=True, num_workers=2)\n",
    "testloader = torch.utils.data.DataLoader(test_dataset, batch_size=batch_size, shuffle=False, num_workers=2)"
   ]
  },
  {
   "cell_type": "code",
   "execution_count": 6,
   "id": "7baab272-6b6c-4cb0-aa68-e1dd7bf0d268",
   "metadata": {},
   "outputs": [
    {
     "name": "stdout",
     "output_type": "stream",
     "text": [
      "10.0\n"
     ]
    }
   ],
   "source": [
    "print_freq = len(testloader) / 4\n",
    "print(print_freq)"
   ]
  },
  {
   "cell_type": "code",
   "execution_count": 7,
   "id": "c2785d28-7249-48f8-b8c2-daa485ef6d0f",
   "metadata": {},
   "outputs": [],
   "source": [
    "def validate(val_loader, model, criterion ):\n",
    "    batch_time = AverageMeter()\n",
    "    losses = AverageMeter()\n",
    "    top1 = AverageMeter()\n",
    "\n",
    "    # switch to evaluate mode\n",
    "    model.eval()\n",
    "\n",
    "    end = time.time()\n",
    "    with torch.no_grad():\n",
    "        for i, (input, target) in enumerate(val_loader):\n",
    "         \n",
    "            input, target = input.cuda(), target.cuda()\n",
    "\n",
    "            # compute output\n",
    "            output = model(input)\n",
    "            loss = criterion(output, target)\n",
    "\n",
    "            # measure accuracy and record loss\n",
    "            prec = accuracy(output, target)[0]\n",
    "            losses.update(loss.item(), input.size(0))\n",
    "            top1.update(prec.item(), input.size(0))\n",
    "\n",
    "            # measure elapsed time\n",
    "            batch_time.update(time.time() - end)\n",
    "            end = time.time()\n",
    "\n",
    "            if i % print_freq == 0:  # This line shows how frequently print out the status. e.g., i%5 => every 5 batch, prints out\n",
    "                print('Test: [{0}/{1}]\\t'\n",
    "                  'Time {batch_time.val:.3f} ({batch_time.avg:.3f})\\t'\n",
    "                  'Loss {loss.val:.4f} ({loss.avg:.4f})\\t'\n",
    "                  'Prec {top1.val:.3f}% ({top1.avg:.3f}%)'.format(\n",
    "                   i, len(val_loader), batch_time=batch_time, loss=losses,\n",
    "                   top1=top1))\n",
    "\n",
    "    print(' * Prec {top1.avg:.3f}% '.format(top1=top1))\n",
    "    return top1.avg\n"
   ]
  },
  {
   "cell_type": "code",
   "execution_count": 8,
   "id": "36fa6d1c-11f0-4d68-a1df-e4fe8b9ee2cc",
   "metadata": {},
   "outputs": [],
   "source": [
    "def accuracy(output, target, topk=(1,)):\n",
    "    \"\"\"Computes the precision@k for the specified values of k\"\"\"\n",
    "    maxk = max(topk)\n",
    "    batch_size = target.size(0)\n",
    "\n",
    "    _, pred = output.topk(maxk, 1, True, True) # topk(k, dim=None, largest=True, sorted=True)\n",
    "                                               # will output (max value, its index)\n",
    "    pred = pred.t()           # transpose\n",
    "    correct = pred.eq(target.view(1, -1).expand_as(pred))   # \"-1\": calculate automatically\n",
    "\n",
    "    res = []\n",
    "    for k in topk:\n",
    "        correct_k = correct[:k].view(-1).float().sum(0)  # view(-1): make a flattened 1D tensor\n",
    "        res.append(correct_k.mul_(100.0 / batch_size))   # correct: size of [maxk, batch_size]\n",
    "    return res\n"
   ]
  },
  {
   "cell_type": "code",
   "execution_count": 9,
   "id": "2059eeee-e13b-4c3c-aed7-247612576958",
   "metadata": {},
   "outputs": [],
   "source": [
    "class AverageMeter(object):\n",
    "    \"\"\"Computes and stores the average and current value\"\"\"\n",
    "    def __init__(self):\n",
    "        self.reset()\n",
    "\n",
    "    def reset(self):\n",
    "        self.val = 0\n",
    "        self.avg = 0\n",
    "        self.sum = 0\n",
    "        self.count = 0\n",
    "\n",
    "    def update(self, val, n=1):\n",
    "        self.val = val\n",
    "        self.sum += val * n    ## n is impact factor\n",
    "        self.count += n\n",
    "        self.avg = self.sum / self.count"
   ]
  },
  {
   "cell_type": "code",
   "execution_count": 10,
   "id": "091cb55b-e1ef-4072-8e2f-1cc7d1cfd51f",
   "metadata": {},
   "outputs": [
    {
     "name": "stdout",
     "output_type": "stream",
     "text": [
      "Test: [0/40]\tTime 3.251 (3.251)\tLoss 0.3328 (0.3328)\tPrec 92.578% (92.578%)\n",
      "Test: [10/40]\tTime 0.025 (0.318)\tLoss 0.2382 (0.3521)\tPrec 94.141% (92.045%)\n",
      "Test: [20/40]\tTime 0.022 (0.177)\tLoss 0.2607 (0.3788)\tPrec 91.406% (91.574%)\n",
      "Test: [30/40]\tTime 0.023 (0.127)\tLoss 0.4853 (0.3781)\tPrec 87.891% (91.557%)\n",
      " * Prec 91.570% \n"
     ]
    }
   ],
   "source": [
    "criterion = nn.CrossEntropyLoss().cuda()\n",
    "\n",
    "model.eval()\n",
    "model.cuda()\n",
    "\n",
    "prec = validate(testloader, model, criterion)"
   ]
  },
  {
   "cell_type": "code",
   "execution_count": 11,
   "id": "29f8a0d6-54cd-43fa-b760-3903f8536a9b",
   "metadata": {},
   "outputs": [
    {
     "data": {
      "text/plain": [
       "VGG_quant(\n",
       "  (features): Sequential(\n",
       "    (0): QuantConv2d(\n",
       "      3, 64, kernel_size=(3, 3), stride=(1, 1), padding=(1, 1), bias=False\n",
       "      (weight_quant): weight_quantize_fn()\n",
       "    )\n",
       "    (1): BatchNorm2d(64, eps=1e-05, momentum=0.1, affine=True, track_running_stats=True)\n",
       "    (2): ReLU(inplace=True)\n",
       "    (3): QuantConv2d(\n",
       "      64, 64, kernel_size=(3, 3), stride=(1, 1), padding=(1, 1), bias=False\n",
       "      (weight_quant): weight_quantize_fn()\n",
       "    )\n",
       "    (4): BatchNorm2d(64, eps=1e-05, momentum=0.1, affine=True, track_running_stats=True)\n",
       "    (5): ReLU(inplace=True)\n",
       "    (6): MaxPool2d(kernel_size=2, stride=2, padding=0, dilation=1, ceil_mode=False)\n",
       "    (7): QuantConv2d(\n",
       "      64, 128, kernel_size=(3, 3), stride=(1, 1), padding=(1, 1), bias=False\n",
       "      (weight_quant): weight_quantize_fn()\n",
       "    )\n",
       "    (8): BatchNorm2d(128, eps=1e-05, momentum=0.1, affine=True, track_running_stats=True)\n",
       "    (9): ReLU(inplace=True)\n",
       "    (10): QuantConv2d(\n",
       "      128, 128, kernel_size=(3, 3), stride=(1, 1), padding=(1, 1), bias=False\n",
       "      (weight_quant): weight_quantize_fn()\n",
       "    )\n",
       "    (11): BatchNorm2d(128, eps=1e-05, momentum=0.1, affine=True, track_running_stats=True)\n",
       "    (12): ReLU(inplace=True)\n",
       "    (13): MaxPool2d(kernel_size=2, stride=2, padding=0, dilation=1, ceil_mode=False)\n",
       "    (14): QuantConv2d(\n",
       "      128, 256, kernel_size=(3, 3), stride=(1, 1), padding=(1, 1), bias=False\n",
       "      (weight_quant): weight_quantize_fn()\n",
       "    )\n",
       "    (15): BatchNorm2d(256, eps=1e-05, momentum=0.1, affine=True, track_running_stats=True)\n",
       "    (16): ReLU(inplace=True)\n",
       "    (17): QuantConv2d(\n",
       "      256, 256, kernel_size=(3, 3), stride=(1, 1), padding=(1, 1), bias=False\n",
       "      (weight_quant): weight_quantize_fn()\n",
       "    )\n",
       "    (18): BatchNorm2d(256, eps=1e-05, momentum=0.1, affine=True, track_running_stats=True)\n",
       "    (19): ReLU(inplace=True)\n",
       "    (20): QuantConv2d(\n",
       "      256, 256, kernel_size=(3, 3), stride=(1, 1), padding=(1, 1), bias=False\n",
       "      (weight_quant): weight_quantize_fn()\n",
       "    )\n",
       "    (21): BatchNorm2d(256, eps=1e-05, momentum=0.1, affine=True, track_running_stats=True)\n",
       "    (22): ReLU(inplace=True)\n",
       "    (23): MaxPool2d(kernel_size=2, stride=2, padding=0, dilation=1, ceil_mode=False)\n",
       "    (24): QuantConv2d(\n",
       "      256, 512, kernel_size=(3, 3), stride=(1, 1), padding=(1, 1), bias=False\n",
       "      (weight_quant): weight_quantize_fn()\n",
       "    )\n",
       "    (25): BatchNorm2d(512, eps=1e-05, momentum=0.1, affine=True, track_running_stats=True)\n",
       "    (26): ReLU(inplace=True)\n",
       "    (27): QuantConv2d(\n",
       "      512, 512, kernel_size=(3, 3), stride=(1, 1), padding=(1, 1), bias=False\n",
       "      (weight_quant): weight_quantize_fn()\n",
       "    )\n",
       "    (28): BatchNorm2d(512, eps=1e-05, momentum=0.1, affine=True, track_running_stats=True)\n",
       "    (29): ReLU(inplace=True)\n",
       "    (30): QuantConv2d(\n",
       "      512, 512, kernel_size=(3, 3), stride=(1, 1), padding=(1, 1), bias=False\n",
       "      (weight_quant): weight_quantize_fn()\n",
       "    )\n",
       "    (31): BatchNorm2d(512, eps=1e-05, momentum=0.1, affine=True, track_running_stats=True)\n",
       "    (32): ReLU(inplace=True)\n",
       "    (33): MaxPool2d(kernel_size=2, stride=2, padding=0, dilation=1, ceil_mode=False)\n",
       "    (34): QuantConv2d(\n",
       "      512, 8, kernel_size=(3, 3), stride=(1, 1), padding=(1, 1), bias=False\n",
       "      (weight_quant): weight_quantize_fn()\n",
       "    )\n",
       "    (35): BatchNorm2d(8, eps=1e-05, momentum=0.1, affine=True, track_running_stats=True)\n",
       "    (36): ReLU(inplace=True)\n",
       "    (37): QuantConv2d(\n",
       "      8, 8, kernel_size=(3, 3), stride=(1, 1), padding=(1, 1), bias=False\n",
       "      (weight_quant): weight_quantize_fn()\n",
       "    )\n",
       "    (38): ReLU(inplace=True)\n",
       "    (39): QuantConv2d(\n",
       "      8, 512, kernel_size=(3, 3), stride=(1, 1), padding=(1, 1), bias=False\n",
       "      (weight_quant): weight_quantize_fn()\n",
       "    )\n",
       "    (40): BatchNorm2d(512, eps=1e-05, momentum=0.1, affine=True, track_running_stats=True)\n",
       "    (41): ReLU(inplace=True)\n",
       "    (42): MaxPool2d(kernel_size=2, stride=2, padding=0, dilation=1, ceil_mode=False)\n",
       "    (43): AvgPool2d(kernel_size=1, stride=1, padding=0)\n",
       "  )\n",
       "  (classifier): Linear(in_features=512, out_features=10, bias=True)\n",
       ")"
      ]
     },
     "execution_count": 11,
     "metadata": {},
     "output_type": "execute_result"
    }
   ],
   "source": [
    "model"
   ]
  },
  {
   "cell_type": "code",
   "execution_count": 12,
   "id": "5f573a1c-bb7b-4b4d-92f0-73f7edc4a71b",
   "metadata": {},
   "outputs": [
    {
     "name": "stdout",
     "output_type": "stream",
     "text": [
      "3 -th layer prehooked\n",
      "7 -th layer prehooked\n",
      "12 -th layer prehooked\n",
      "16 -th layer prehooked\n",
      "21 -th layer prehooked\n",
      "25 -th layer prehooked\n",
      "29 -th layer prehooked\n",
      "34 -th layer prehooked\n",
      "38 -th layer prehooked\n",
      "42 -th layer prehooked\n",
      "47 -th layer prehooked\n",
      "51 -th layer prehooked\n",
      "54 -th layer prehooked\n",
      "13\n"
     ]
    }
   ],
   "source": [
    "class SaveOutput:\n",
    "    def __init__(self):\n",
    "        self.outputs = []\n",
    "    def __call__(self, module, module_in):\n",
    "        self.outputs.append(module_in)  # Save the input tensor\n",
    "    def clear(self):\n",
    "        self.outputs = []  \n",
    "\n",
    "save_output = SaveOutput()\n",
    "device = torch.device(\"cuda\" if use_gpu else \"cpu\") \n",
    "i = 0\n",
    "count=0\n",
    "\n",
    "for layer in model.modules():\n",
    "    i = i+1\n",
    "    if isinstance(layer, QuantConv2d):\n",
    "        print(i,\"-th layer prehooked\")\n",
    "        layer.register_forward_pre_hook(save_output)    \n",
    "        count = count +1\n",
    "\n",
    "dataiter = iter(trainloader)\n",
    "images, labels = next(dataiter)\n",
    "images = images.cuda()\n",
    "out = model(images)\n",
    "\n",
    "print(count)"
   ]
  },
  {
   "cell_type": "code",
   "execution_count": 13,
   "id": "10cebe62",
   "metadata": {},
   "outputs": [
    {
     "data": {
      "text/plain": [
       "(torch.Size([256, 8, 2, 2]), torch.Size([256, 8, 2, 2]))"
      ]
     },
     "execution_count": 13,
     "metadata": {},
     "output_type": "execute_result"
    }
   ],
   "source": [
    "layer_input = save_output.outputs[11][0]\n",
    "layer_output = save_output.outputs[12][0]\n",
    "layer_input.size(), layer_output.size()"
   ]
  },
  {
   "cell_type": "code",
   "execution_count": 14,
   "id": "07b70db0",
   "metadata": {},
   "outputs": [
    {
     "data": {
      "text/plain": [
       "(torch.Size([8, 2, 2]), torch.Size([8, 2, 2]))"
      ]
     },
     "execution_count": 14,
     "metadata": {},
     "output_type": "execute_result"
    }
   ],
   "source": [
    "layer_input = layer_input[0]\n",
    "layer_output = layer_output[0]\n",
    "layer_input.size(), layer_output.size()"
   ]
  },
  {
   "cell_type": "code",
   "execution_count": 15,
   "id": "7737adeb-d8a4-45e6-a435-1b67394fafa5",
   "metadata": {},
   "outputs": [
    {
     "name": "stdout",
     "output_type": "stream",
     "text": [
      "QuantConv2d(\n",
      "  8, 8, kernel_size=(3, 3), stride=(1, 1), padding=(1, 1), bias=False\n",
      "  (weight_quant): weight_quantize_fn()\n",
      ")\n",
      "odict_keys(['weight', 'bias', 'act_alpha', 'weight_q'])\n",
      "OrderedDict([('wgt_alpha', Parameter containing:\n",
      "tensor(2.3064, device='cuda:0', requires_grad=True))])\n"
     ]
    }
   ],
   "source": [
    "# grab data from the 37th layer!!!\n",
    "\n",
    "layer = model.features[37]\n",
    "print(layer)\n",
    "\n",
    "print(layer._parameters.keys())\n",
    "\n",
    "print(layer.weight_quant._parameters)"
   ]
  },
  {
   "cell_type": "code",
   "execution_count": 16,
   "id": "96b409b2",
   "metadata": {},
   "outputs": [
    {
     "name": "stdout",
     "output_type": "stream",
     "text": [
      "torch.Size([8, 8, 3, 3])\n",
      "tensor([[[[-0.0000,  0.0000,  0.0000],\n",
      "          [ 0.0000,  1.0000, -3.0000],\n",
      "          [-1.0000,  2.0000, -1.0000]],\n",
      "\n",
      "         [[-1.0000,  4.0000, -2.0000],\n",
      "          [-3.0000,  7.0000,  2.0000],\n",
      "          [-0.0000,  5.0000, -4.0000]],\n",
      "\n",
      "         [[ 1.0000,  7.0000, -5.0000],\n",
      "          [ 1.0000, -0.0000,  5.0000],\n",
      "          [-2.0000, -4.0000, -2.0000]],\n",
      "\n",
      "         [[-1.0000,  2.0000, -1.0000],\n",
      "          [ 3.0000,  3.0000, -2.0000],\n",
      "          [-1.0000,  6.0000, -4.0000]],\n",
      "\n",
      "         [[-1.0000, -5.0000, -5.0000],\n",
      "          [-2.0000,  1.0000,  0.0000],\n",
      "          [-2.0000,  0.0000, -1.0000]],\n",
      "\n",
      "         [[-2.0000,  1.0000, -1.0000],\n",
      "          [ 0.0000, -2.0000, -3.0000],\n",
      "          [-4.0000, -4.0000,  1.0000]],\n",
      "\n",
      "         [[ 1.0000, -2.0000,  2.0000],\n",
      "          [ 1.0000,  5.0000,  4.0000],\n",
      "          [ 0.0000, -1.0000,  2.0000]],\n",
      "\n",
      "         [[-4.0000, -3.0000, -2.0000],\n",
      "          [-2.0000, -1.0000,  1.0000],\n",
      "          [-5.0000, -1.0000, -3.0000]]],\n",
      "\n",
      "\n",
      "        [[[ 3.0000,  3.0000,  4.0000],\n",
      "          [-3.0000, -2.0000, -1.0000],\n",
      "          [-3.0000, -2.0000, -2.0000]],\n",
      "\n",
      "         [[-4.0000,  2.0000,  5.0000],\n",
      "          [-6.0000,  2.0000, -1.0000],\n",
      "          [-5.0000,  1.0000,  6.0000]],\n",
      "\n",
      "         [[ 2.0000,  6.0000,  0.0000],\n",
      "          [-3.0000,  1.0000, -4.0000],\n",
      "          [-1.0000, -7.0000, -6.0000]],\n",
      "\n",
      "         [[ 1.0000, -4.0000,  1.0000],\n",
      "          [ 0.0000,  6.0000,  0.0000],\n",
      "          [-6.0000, -3.0000, -4.0000]],\n",
      "\n",
      "         [[-1.0000,  3.0000,  2.0000],\n",
      "          [ 6.0000,  7.0000,  0.0000],\n",
      "          [ 4.0000,  2.0000, -2.0000]],\n",
      "\n",
      "         [[ 3.0000, -6.0000, -1.0000],\n",
      "          [-2.0000, -4.0000, -7.0000],\n",
      "          [-3.0000,  2.0000, -4.0000]],\n",
      "\n",
      "         [[-0.0000, -2.0000, -3.0000],\n",
      "          [ 2.0000,  1.0000,  0.0000],\n",
      "          [ 1.0000, -0.0000, -2.0000]],\n",
      "\n",
      "         [[-4.0000,  1.0000, -3.0000],\n",
      "          [-1.0000,  3.0000, -3.0000],\n",
      "          [-3.0000,  3.0000,  3.0000]]],\n",
      "\n",
      "\n",
      "        [[[-1.0000, -2.0000, -2.0000],\n",
      "          [-1.0000,  1.0000, -2.0000],\n",
      "          [-2.0000, -0.0000,  3.0000]],\n",
      "\n",
      "         [[ 1.0000, -3.0000, -2.0000],\n",
      "          [ 2.0000, -1.0000,  2.0000],\n",
      "          [ 6.0000, -4.0000, -2.0000]],\n",
      "\n",
      "         [[-3.0000,  0.0000,  4.0000],\n",
      "          [-2.0000, -2.0000, -1.0000],\n",
      "          [-1.0000,  7.0000,  1.0000]],\n",
      "\n",
      "         [[-1.0000, -3.0000, -0.0000],\n",
      "          [-5.0000,  1.0000,  5.0000],\n",
      "          [ 0.0000,  3.0000,  4.0000]],\n",
      "\n",
      "         [[ 6.0000,  5.0000, -6.0000],\n",
      "          [ 4.0000,  7.0000,  4.0000],\n",
      "          [ 0.0000, -1.0000, -1.0000]],\n",
      "\n",
      "         [[ 5.0000, -2.0000, -1.0000],\n",
      "          [ 1.0000,  3.0000,  2.0000],\n",
      "          [-1.0000, -1.0000,  2.0000]],\n",
      "\n",
      "         [[ 1.0000,  6.0000,  2.0000],\n",
      "          [-4.0000,  4.0000, -1.0000],\n",
      "          [-3.0000, -0.0000, -5.0000]],\n",
      "\n",
      "         [[ 3.0000, -5.0000, -1.0000],\n",
      "          [ 2.0000, -2.0000, -5.0000],\n",
      "          [-2.0000, -2.0000, -3.0000]]],\n",
      "\n",
      "\n",
      "        [[[ 0.0000,  4.0000,  0.0000],\n",
      "          [ 4.0000,  2.0000, -1.0000],\n",
      "          [-2.0000,  4.0000,  1.0000]],\n",
      "\n",
      "         [[ 2.0000,  3.0000,  3.0000],\n",
      "          [ 2.0000, -1.0000, -3.0000],\n",
      "          [-5.0000, -3.0000, -3.0000]],\n",
      "\n",
      "         [[-0.0000,  6.0000,  3.0000],\n",
      "          [ 1.0000,  4.0000, -2.0000],\n",
      "          [-4.0000,  4.0000,  3.0000]],\n",
      "\n",
      "         [[-2.0000, -4.0000, -1.0000],\n",
      "          [-2.0000, -4.0000,  5.0000],\n",
      "          [ 5.0000,  4.0000,  4.0000]],\n",
      "\n",
      "         [[ 3.0000,  4.0000, -2.0000],\n",
      "          [-5.0000, -1.0000, -4.0000],\n",
      "          [-7.0000, -0.0000,  0.0000]],\n",
      "\n",
      "         [[ 3.0000,  2.0000,  1.0000],\n",
      "          [-0.0000,  6.0000,  5.0000],\n",
      "          [ 2.0000,  1.0000,  0.0000]],\n",
      "\n",
      "         [[-1.0000, -2.0000, -5.0000],\n",
      "          [-0.0000,  0.0000,  3.0000],\n",
      "          [-2.0000,  3.0000,  2.0000]],\n",
      "\n",
      "         [[ 4.0000,  0.0000, -4.0000],\n",
      "          [-2.0000, -5.0000, -2.0000],\n",
      "          [-0.0000, -4.0000, -3.0000]]],\n",
      "\n",
      "\n",
      "        [[[-0.0000, -0.0000, -4.0000],\n",
      "          [-3.0000, -3.0000, -2.0000],\n",
      "          [-5.0000, -0.0000, -4.0000]],\n",
      "\n",
      "         [[-0.0000, -2.0000, -3.0000],\n",
      "          [ 1.0000,  3.0000,  0.0000],\n",
      "          [-1.0000,  2.0000,  1.0000]],\n",
      "\n",
      "         [[ 0.0000, -6.0000,  5.0000],\n",
      "          [-2.0000,  5.0000,  5.0000],\n",
      "          [-2.0000,  0.0000,  1.0000]],\n",
      "\n",
      "         [[ 1.0000,  4.0000, -0.0000],\n",
      "          [-1.0000,  4.0000, -1.0000],\n",
      "          [ 3.0000,  5.0000, -5.0000]],\n",
      "\n",
      "         [[-3.0000,  0.0000,  1.0000],\n",
      "          [ 2.0000, -3.0000,  4.0000],\n",
      "          [ 1.0000, -2.0000, -3.0000]],\n",
      "\n",
      "         [[ 5.0000,  4.0000,  2.0000],\n",
      "          [-4.0000, -2.0000,  3.0000],\n",
      "          [ 3.0000,  3.0000, -5.0000]],\n",
      "\n",
      "         [[ 1.0000,  3.0000, -2.0000],\n",
      "          [ 1.0000, -1.0000,  5.0000],\n",
      "          [-6.0000, -5.0000,  0.0000]],\n",
      "\n",
      "         [[ 3.0000,  5.0000, -2.0000],\n",
      "          [ 3.0000,  5.0000,  1.0000],\n",
      "          [ 2.0000, -1.0000, -4.0000]]],\n",
      "\n",
      "\n",
      "        [[[-3.0000, -3.0000, -2.0000],\n",
      "          [-3.0000,  5.0000,  4.0000],\n",
      "          [-4.0000,  1.0000,  1.0000]],\n",
      "\n",
      "         [[ 2.0000,  2.0000,  1.0000],\n",
      "          [ 5.0000,  5.0000,  2.0000],\n",
      "          [-1.0000,  5.0000,  1.0000]],\n",
      "\n",
      "         [[-4.0000,  3.0000, -6.0000],\n",
      "          [-1.0000,  0.0000, -0.0000],\n",
      "          [-3.0000, -3.0000, -0.0000]],\n",
      "\n",
      "         [[-2.0000, -1.0000,  4.0000],\n",
      "          [-1.0000,  3.0000, -3.0000],\n",
      "          [-5.0000, -4.0000,  4.0000]],\n",
      "\n",
      "         [[ 5.0000, -4.0000, -3.0000],\n",
      "          [ 3.0000, -1.0000, -5.0000],\n",
      "          [-1.0000,  5.0000, -0.0000]],\n",
      "\n",
      "         [[ 3.0000, -3.0000,  0.0000],\n",
      "          [-1.0000,  4.0000,  1.0000],\n",
      "          [ 1.0000,  5.0000, -1.0000]],\n",
      "\n",
      "         [[ 1.0000,  0.0000,  1.0000],\n",
      "          [ 1.0000, -7.0000, -1.0000],\n",
      "          [-4.0000, -4.0000,  2.0000]],\n",
      "\n",
      "         [[-2.0000,  1.0000,  0.0000],\n",
      "          [-4.0000,  2.0000,  0.0000],\n",
      "          [-3.0000, -0.0000,  2.0000]]],\n",
      "\n",
      "\n",
      "        [[[-2.0000, -2.0000,  2.0000],\n",
      "          [ 2.0000,  1.0000,  2.0000],\n",
      "          [-1.0000, -1.0000, -3.0000]],\n",
      "\n",
      "         [[ 1.0000, -0.0000,  4.0000],\n",
      "          [-2.0000, -3.0000, -5.0000],\n",
      "          [-1.0000, -1.0000,  2.0000]],\n",
      "\n",
      "         [[ 0.0000,  6.0000,  1.0000],\n",
      "          [-1.0000, -0.0000, -1.0000],\n",
      "          [-2.0000, -4.0000, -3.0000]],\n",
      "\n",
      "         [[ 0.0000, -4.0000,  2.0000],\n",
      "          [-2.0000, -2.0000, -5.0000],\n",
      "          [-2.0000, -0.0000, -1.0000]],\n",
      "\n",
      "         [[-3.0000,  0.0000,  2.0000],\n",
      "          [ 3.0000, -7.0000, -3.0000],\n",
      "          [ 5.0000,  1.0000, -3.0000]],\n",
      "\n",
      "         [[ 0.0000, -1.0000, -4.0000],\n",
      "          [ 5.0000,  4.0000,  3.0000],\n",
      "          [ 0.0000,  3.0000,  1.0000]],\n",
      "\n",
      "         [[-4.0000,  2.0000,  2.0000],\n",
      "          [ 5.0000,  7.0000, -1.0000],\n",
      "          [ 3.0000,  6.0000, -3.0000]],\n",
      "\n",
      "         [[ 2.0000,  6.0000, -2.0000],\n",
      "          [ 1.0000,  3.0000,  1.0000],\n",
      "          [-2.0000,  1.0000, -0.0000]]],\n",
      "\n",
      "\n",
      "        [[[-1.0000, -2.0000, -1.0000],\n",
      "          [ 4.0000,  4.0000,  7.0000],\n",
      "          [ 1.0000,  2.0000,  1.0000]],\n",
      "\n",
      "         [[ 1.0000, -2.0000,  2.0000],\n",
      "          [ 4.0000, -0.0000,  7.0000],\n",
      "          [ 3.0000, -3.0000,  1.0000]],\n",
      "\n",
      "         [[-2.0000,  2.0000, -1.0000],\n",
      "          [-2.0000, -2.0000, -2.0000],\n",
      "          [-3.0000, -1.0000, -0.0000]],\n",
      "\n",
      "         [[-0.0000, -1.0000,  2.0000],\n",
      "          [ 5.0000,  6.0000, -1.0000],\n",
      "          [ 0.0000, -3.0000,  2.0000]],\n",
      "\n",
      "         [[ 1.0000, -2.0000, -1.0000],\n",
      "          [ 2.0000, -4.0000, -2.0000],\n",
      "          [-4.0000,  2.0000, -4.0000]],\n",
      "\n",
      "         [[-4.0000,  2.0000,  0.0000],\n",
      "          [ 3.0000,  2.0000,  3.0000],\n",
      "          [-3.0000, -0.0000, -0.0000]],\n",
      "\n",
      "         [[-4.0000, -2.0000, -3.0000],\n",
      "          [ 5.0000,  3.0000, -4.0000],\n",
      "          [ 3.0000, -2.0000, -2.0000]],\n",
      "\n",
      "         [[-3.0000,  4.0000, -2.0000],\n",
      "          [-0.0000,  5.0000,  1.0000],\n",
      "          [-4.0000, -1.0000,  0.0000]]]], device='cuda:0',\n",
      "       grad_fn=<DivBackward0>)\n"
     ]
    }
   ],
   "source": [
    "bw = 4\n",
    "weight_q = layer.weight_q\n",
    "w_alpha = layer.weight_quant.wgt_alpha\n",
    "w_delta = w_alpha / (2**(bw-1)-1)\n",
    "w_int = weight_q / w_delta\n",
    "\n",
    "print(w_int.shape)\n",
    "print(w_int)"
   ]
  },
  {
   "cell_type": "code",
   "execution_count": 17,
   "id": "b4cff92e",
   "metadata": {},
   "outputs": [
    {
     "name": "stdout",
     "output_type": "stream",
     "text": [
      "torch.Size([8, 2, 2])\n",
      "tensor([[[ 0.0000,  0.0000],\n",
      "         [ 0.0000,  0.0000]],\n",
      "\n",
      "        [[ 1.0000,  0.0000],\n",
      "         [ 0.0000,  0.0000]],\n",
      "\n",
      "        [[ 0.0000,  0.0000],\n",
      "         [ 0.0000,  0.0000]],\n",
      "\n",
      "        [[ 0.0000,  0.0000],\n",
      "         [ 0.0000,  9.0000]],\n",
      "\n",
      "        [[11.0000,  0.0000],\n",
      "         [15.0000,  5.0000]],\n",
      "\n",
      "        [[ 0.0000,  0.0000],\n",
      "         [ 0.0000,  0.0000]],\n",
      "\n",
      "        [[ 0.0000,  0.0000],\n",
      "         [ 0.0000,  0.0000]],\n",
      "\n",
      "        [[ 0.0000,  0.0000],\n",
      "         [ 0.0000,  0.0000]]], device='cuda:0', grad_fn=<DivBackward0>)\n"
     ]
    }
   ],
   "source": [
    "x = layer_input\n",
    "x_alpha = model.features[37].act_alpha\n",
    "x_delta = x_alpha / (2**(bw)-1)\n",
    "\n",
    "act_quant_fn = act_quantization(bw)\n",
    "x_q = act_quant_fn(x, x_alpha)\n",
    "\n",
    "x_int = x_q / x_delta\n",
    "\n",
    "print(x_int.shape)\n",
    "print(x_int)"
   ]
  },
  {
   "cell_type": "code",
   "execution_count": 18,
   "id": "19731e34",
   "metadata": {},
   "outputs": [
    {
     "name": "stdout",
     "output_type": "stream",
     "text": [
      "torch.Size([8, 2, 2])\n",
      "torch.Size([8, 2, 2])\n",
      "tensor([[[  0.0000,   0.0000],\n",
      "         [  0.0000,   0.0000]],\n",
      "\n",
      "        [[ 63.0000, 103.0000],\n",
      "         [140.0000, 164.0000]],\n",
      "\n",
      "        [[ 92.0000,  68.0000],\n",
      "         [222.0000, 171.0000]],\n",
      "\n",
      "        [[ 24.0000,   0.0000],\n",
      "         [ 57.0000,   0.0000]],\n",
      "\n",
      "        [[  0.0000,  73.0000],\n",
      "         [  0.0000,  18.0000]],\n",
      "\n",
      "        [[105.0000,  12.0000],\n",
      "         [  0.0000, 124.0000]],\n",
      "\n",
      "        [[  0.0000, 111.0000],\n",
      "         [  0.0000,   0.0000]],\n",
      "\n",
      "        [[  0.0000,   0.0000],\n",
      "         [  0.0000,  76.0000]]], device='cuda:0', grad_fn=<ReluBackward0>)\n"
     ]
    }
   ],
   "source": [
    "conv_int = torch.nn.Conv2d(in_channels=8, out_channels=8, kernel_size=3, padding=1, bias=False)\n",
    "conv_int.weight = torch.nn.parameter.Parameter(w_int)\n",
    "output_int = F.relu(conv_int(x_int))\n",
    "output_recovered = output_int * w_delta * x_delta  # recover with x_delta and w_delta\n",
    "\n",
    "print(output_recovered.shape) \n",
    "print(layer_output.shape)\n",
    "print(output_int)"
   ]
  },
  {
   "cell_type": "code",
   "execution_count": 19,
   "id": "91fb5d6c",
   "metadata": {},
   "outputs": [
    {
     "name": "stdout",
     "output_type": "stream",
     "text": [
      "tensor(1.7136e-07, device='cuda:0', grad_fn=<MeanBackward0>)\n"
     ]
    }
   ],
   "source": [
    "# calculate the difference between outputs, d should be less than 1e-03\n",
    "diff = abs(layer_output - output_recovered)\n",
    "print(diff.mean())"
   ]
  },
  {
   "cell_type": "code",
   "execution_count": 20,
   "id": "5d72fa20",
   "metadata": {},
   "outputs": [
    {
     "name": "stdout",
     "output_type": "stream",
     "text": [
      "torch.Size([8, 2, 2])\n"
     ]
    }
   ],
   "source": [
    "print(x_int.size())"
   ]
  },
  {
   "cell_type": "code",
   "execution_count": 21,
   "id": "30f02437-dae7-4c86-8b22-f6f4bfc2bdab",
   "metadata": {},
   "outputs": [
    {
     "name": "stdout",
     "output_type": "stream",
     "text": [
      "torch.Size([8, 16])\n"
     ]
    }
   ],
   "source": [
    "x_pad = torch.zeros(8, 4, 4).cuda()\n",
    "\n",
    "x_pad[:, 1:3, 1:3] = x_int.cuda()\n",
    "\n",
    "X = torch.reshape(x_pad, (x_pad.size(0), -1))\n",
    "\n",
    "print(X.size())"
   ]
  },
  {
   "cell_type": "code",
   "execution_count": 22,
   "id": "54c08cc9-730d-4c95-a7ce-e625a4461939",
   "metadata": {},
   "outputs": [],
   "source": [
    "from pathlib import Path\n",
    "# Define the folder path\n",
    "folder_path = Path('./vgg_output/')\n",
    "\n",
    "# Create the folder if it doesn't exist\n",
    "folder_path.mkdir(parents=True, exist_ok=True)\n"
   ]
  },
  {
   "cell_type": "code",
   "execution_count": 23,
   "id": "b517be83-b9e8-41de-bd4a-a4dc9a23756a",
   "metadata": {},
   "outputs": [],
   "source": [
    "### store weights ###\n",
    "\n",
    "bit_precision = 4\n",
    "file = open('./vgg_output/activation.txt', 'w') \n",
    "file.write('#time0row7[msb-lsb],time0row6[msb-lst],....,time0row0[msb-lst]#\\n')\n",
    "file.write('#time1row7[msb-lsb],time1row6[msb-lst],....,time1row0[msb-lst]#\\n')\n",
    "file.write('#................#\\n')\n",
    "\n",
    "for i in range(X.size(1)):  # time step\n",
    "    for j in range(X.size(0)): # row #\n",
    "        X_bin = '{0:04b}'.format(round(X[7-j,i].item()))\n",
    "        for k in range(bit_precision):\n",
    "            file.write(X_bin[k])        \n",
    "        #file.write(' ')  # use this line for visibility with blank between words\n",
    "    file.write('\\n')\n",
    "file.close() #close file    \n"
   ]
  },
  {
   "cell_type": "code",
   "execution_count": 24,
   "id": "637aa7a7-1b29-44a1-af37-81b625cd7edf",
   "metadata": {},
   "outputs": [
    {
     "name": "stdout",
     "output_type": "stream",
     "text": [
      "torch.Size([8, 8, 3, 3])\n"
     ]
    },
    {
     "data": {
      "text/plain": [
       "torch.Size([8, 8, 9])"
      ]
     },
     "execution_count": 24,
     "metadata": {},
     "output_type": "execute_result"
    }
   ],
   "source": [
    "print(w_int.size())\n",
    "W = torch.reshape(w_int, (w_int.size(0), w_int.size(1), -1))\n",
    "W.size()"
   ]
  },
  {
   "cell_type": "code",
   "execution_count": 25,
   "id": "12e6ea1d-b1cb-41bf-918b-b7cb19263af8",
   "metadata": {},
   "outputs": [],
   "source": [
    "### storing weight data ###                     \n",
    "\n",
    "bit_precision = 4\n",
    "\n",
    "file = open('./vgg_output/weight.txt', 'w') \n",
    "file.write('#col0row7[msb-lsb],col0row6[msb-lsb],....,col0row0[msb-lsb]#\\n')\n",
    "file.write('#col1row7[msb-lsb],col1row6[msb-lsb],....,col1row0[msb-lsb]#\\n')\n",
    "file.write('#................#\\n')\n",
    "\n",
    "for kij in range(9):\n",
    "    for i in range(W.size(0)):   #col\n",
    "        for j in range(W.size(1)):    # row  \n",
    "            if (W[i, 7-j, kij].item()<0):\n",
    "                W_bin = '{0:04b}'.format(round(W[i,7-j, kij].item() + 2**bit_precision))        #check again if it works for neg numbers\n",
    "            else:\n",
    "                W_bin = '{0:04b}'.format(round(W[i,7-j, kij].item()))\n",
    "            for k in range(bit_precision):\n",
    "                file.write(W_bin[k])        \n",
    "                #file.write(' ')  # for visibility with blank between words, you can use\n",
    "        file.write('\\n')\n",
    "file.close() #close file  "
   ]
  },
  {
   "cell_type": "code",
   "execution_count": 26,
   "id": "956ecd4f-17ee-4afc-b879-26fc8f7fc472",
   "metadata": {},
   "outputs": [
    {
     "name": "stdout",
     "output_type": "stream",
     "text": [
      "torch.Size([8, 2, 2])\n",
      "torch.Size([8, 4])\n"
     ]
    }
   ],
   "source": [
    "print(output_int.size())\n",
    "O = torch.reshape(output_int, (output_int.size(0), -1))\n",
    "print(O.size())"
   ]
  },
  {
   "cell_type": "code",
   "execution_count": 27,
   "id": "ffd5ae36-5f08-4672-9d60-08a504b47543",
   "metadata": {},
   "outputs": [],
   "source": [
    "### Store output data ###\n",
    "\n",
    "bit_precision = 16\n",
    "file = open('./vgg_output/output.txt', 'w') #write to file\n",
    "file.write('#time0col7[msb-lsb],time0col6[msb-lsb],....,time0col0[msb-lsb]#\\n')\n",
    "file.write('#time1col7[msb-lsb],time1col6[msb-lsb],....,time1col0[msb-lsb]#\\n')\n",
    "file.write('#................#\\n')\n",
    "\n",
    "for i in range(O.size(1)):  \n",
    "    for j in range(O.size(0)): \n",
    "        if (O[7-j,i].item()<0):\n",
    "            O_bin = '{0:016b}'.format(round(O[7-j,i].item() + 2**bit_precision))\n",
    "        else:\n",
    "            O_bin = '{0:016b}'.format(round(O[7-j,i].item()))\n",
    "        for k in range(bit_precision):\n",
    "            file.write(O_bin[k])        \n",
    "        #file.write(' ')  # for visibility with blank between words, you can use\n",
    "    file.write('\\n')\n",
    "file.close() #close file    "
   ]
  },
  {
   "cell_type": "code",
   "execution_count": 28,
   "id": "e6f85b68-fc7c-4ac1-9508-a3c968679857",
   "metadata": {},
   "outputs": [
    {
     "name": "stdout",
     "output_type": "stream",
     "text": [
      "torch.Size([8, 16])\n"
     ]
    }
   ],
   "source": [
    "print(X.size())"
   ]
  },
  {
   "cell_type": "code",
   "execution_count": 29,
   "id": "a7172c5a-0f83-4399-97e4-1afeed5fabb6",
   "metadata": {},
   "outputs": [
    {
     "name": "stdout",
     "output_type": "stream",
     "text": [
      "torch.Size([8, 16, 9])\n"
     ]
    }
   ],
   "source": [
    "psum = torch.zeros(8, 16, 9).cuda()  #initialize an empty psum first with array size, p_nij and kij\n",
    "print(psum.size())\n",
    "\n",
    "# calculate psum value\n",
    "for kij in range(9):    \n",
    "    for p_nij in range(16):     \n",
    "        m = nn.Linear(8, 8, bias=False)  # array size matched\n",
    "        m.weight = torch.nn.Parameter(W[:,:,kij])\n",
    "        psum[:, p_nij, kij] = m(X[:,p_nij]).cuda()"
   ]
  },
  {
   "cell_type": "code",
   "execution_count": 30,
   "id": "e561a8c2-043f-46e8-bb9f-b80ede973578",
   "metadata": {},
   "outputs": [],
   "source": [
    "### Store psum data ###\n",
    "\n",
    "bit_precision = 16\n",
    "\n",
    "file = open('./vgg_output/psum.txt', 'w') #write to file\n",
    "file.write('#time0col7[msb-lsb],time0col6[msb-lsb],....,time0col0[msb-lsb]#\\n')\n",
    "file.write('#time1col7[msb-lsb],time1col6[msb-lsb],....,time1col0[msb-lsb]#\\n')\n",
    "file.write('#................#\\n')\n",
    "\n",
    "for kij in range(9):\n",
    "    for i in range(psum.size(1)):  # time step\n",
    "        for j in range(psum.size(0)): # array size\n",
    "            if (psum[7-j,i, kij].item()<0):\n",
    "                psum_bin = '{0:016b}'.format(round(psum[7-j,i, kij].item() + 2**bit_precision))\n",
    "            else:\n",
    "                psum_bin = '{0:016b}'.format(round(psum[7-j,i, kij].item()))\n",
    "            for k in range(bit_precision):\n",
    "                file.write(psum_bin[k])        \n",
    "            #file.write(' ')  # for visibility with blank between words, you can use\n",
    "        file.write('\\n')\n",
    "file.close() #close file    "
   ]
  },
  {
   "cell_type": "code",
   "execution_count": null,
   "id": "fe0ea8a5-85de-4619-a401-9977b652d15a",
   "metadata": {},
   "outputs": [],
   "source": []
  }
 ],
 "metadata": {
  "kernelspec": {
   "display_name": "Python 3 (ipykernel)",
   "language": "python",
   "name": "python3"
  },
  "language_info": {
   "codemirror_mode": {
    "name": "ipython",
    "version": 3
   },
   "file_extension": ".py",
   "mimetype": "text/x-python",
   "name": "python",
   "nbconvert_exporter": "python",
   "pygments_lexer": "ipython3",
   "version": "3.11.9"
  }
 },
 "nbformat": 4,
 "nbformat_minor": 5
}
